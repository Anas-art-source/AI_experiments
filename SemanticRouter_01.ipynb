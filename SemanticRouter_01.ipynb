{
  "nbformat": 4,
  "nbformat_minor": 0,
  "metadata": {
    "colab": {
      "provenance": [],
      "authorship_tag": "ABX9TyPVTEMeouCkr6Mwdb2PwG4f",
      "include_colab_link": true
    },
    "kernelspec": {
      "name": "python3",
      "display_name": "Python 3"
    },
    "language_info": {
      "name": "python"
    }
  },
  "cells": [
    {
      "cell_type": "markdown",
      "metadata": {
        "id": "view-in-github",
        "colab_type": "text"
      },
      "source": [
        "<a href=\"https://colab.research.google.com/github/Anas-art-source/AI_experiments/blob/main/SemanticRouter_01.ipynb\" target=\"_parent\"><img src=\"https://colab.research.google.com/assets/colab-badge.svg\" alt=\"Open In Colab\"/></a>"
      ]
    },
    {
      "cell_type": "code",
      "execution_count": 20,
      "metadata": {
        "id": "TfvmyE-9BiYX"
      },
      "outputs": [],
      "source": [
        "!pip install -qU semantic-router==0.0.17"
      ]
    },
    {
      "cell_type": "code",
      "source": [
        "from semantic_router import Route\n",
        "\n",
        "recommendation = Route(\n",
        "    name=\"recommendation\",\n",
        "    utterances=[\n",
        "        \"Can you recommend products based on my previous purchases?\",\n",
        "        \"How are product recommendations personalized for my preferences?\",\n",
        "        \"What are the current trending products in [specific category]?\",\n",
        "        \"Can you suggest gift ideas for [occasion or recipient]?\",\n",
        "        \"What are popular gifts in [a certain price range]?\",\n",
        "        ],\n",
        ")\n",
        "\n",
        "from semantic_router import Route\n",
        "\n",
        "productComparision = Route(\n",
        "    name=\"productComparision\",\n",
        "    utterances=[\n",
        "        \"What are the key features of [Product A] compared to [Product B]?\",\n",
        "        \"Can you provide a side-by-side feature comparison for [specific products]?\",\n",
        "        \"How does the performance of [Product A] compare to [Product B] in terms of [specific specification]?\",\n",
        "        \"Are there any notable differences in the technical specifications of these products?\",\n",
        "        \"Which product offers better value for money based on its features and price?\",\n",
        "        \"How do customers rate and review [Product A] compared to [Product B]?\",\n",
        "        \"Are there any common strengths or weaknesses mentioned in customer reviews?\"\n",
        "        ],\n",
        ")"
      ],
      "metadata": {
        "id": "cclNjBGjB3VY"
      },
      "execution_count": 22,
      "outputs": []
    },
    {
      "cell_type": "code",
      "source": [
        "import os\n",
        "from getpass import getpass\n",
        "from semantic_router.encoders import CohereEncoder, OpenAIEncoder\n",
        "\n",
        "# os.environ[\"COHERE_API_KEY\"] = os.getenv(\"COHERE_API_KEY\") or getpass(\n",
        "#     \"Enter Cohere API Key: \"\n",
        "# )\n",
        "os.environ[\"OPENAI_API_KEY\"] = \"\"\n",
        "\n",
        "# encoder = CohereEncoder()\n",
        "encoder = OpenAIEncoder()"
      ],
      "metadata": {
        "id": "mNnRZvcVB3X2"
      },
      "execution_count": 23,
      "outputs": []
    },
    {
      "cell_type": "code",
      "source": [
        "from semantic_router.layer import RouteLayer\n",
        "routes = [recommendation, productComparision]\n",
        "rl = RouteLayer(encoder=encoder, routes=routes)"
      ],
      "metadata": {
        "colab": {
          "base_uri": "https://localhost:8080/"
        },
        "id": "fBUnwQgZB3ad",
        "outputId": "2735c593-6b39-40b1-bccf-9c90e539e022"
      },
      "execution_count": 24,
      "outputs": [
        {
          "output_type": "stream",
          "name": "stderr",
          "text": [
            "\u001b[32m2024-01-21 14:04:49 INFO semantic_router.utils.logger Initializing RouteLayer\u001b[0m\n"
          ]
        }
      ]
    },
    {
      "cell_type": "code",
      "source": [
        "rl(\"which is most selling among these product: Dell laptop or keyboard\")"
      ],
      "metadata": {
        "colab": {
          "base_uri": "https://localhost:8080/"
        },
        "id": "eoSJmrpkB3dA",
        "outputId": "f88ce31b-3a27-4af7-f29c-e3491340827f"
      },
      "execution_count": 25,
      "outputs": [
        {
          "output_type": "execute_result",
          "data": {
            "text/plain": [
              "RouteChoice(name=None, function_call=None, similarity_score=None, trigger=None)"
            ]
          },
          "metadata": {},
          "execution_count": 25
        }
      ]
    },
    {
      "cell_type": "code",
      "source": [],
      "metadata": {
        "id": "2RkxnRfOB3fo"
      },
      "execution_count": null,
      "outputs": []
    },
    {
      "cell_type": "code",
      "source": [],
      "metadata": {
        "id": "uyPT1UiEB3iF"
      },
      "execution_count": null,
      "outputs": []
    },
    {
      "cell_type": "code",
      "source": [],
      "metadata": {
        "id": "_oL74n97B3ke"
      },
      "execution_count": null,
      "outputs": []
    },
    {
      "cell_type": "code",
      "source": [],
      "metadata": {
        "id": "FYacUc7XB3nO"
      },
      "execution_count": null,
      "outputs": []
    }
  ]
}