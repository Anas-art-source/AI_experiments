{
  "nbformat": 4,
  "nbformat_minor": 0,
  "metadata": {
    "colab": {
      "provenance": [],
      "authorship_tag": "ABX9TyMlYE2k+jKNxYNZpl7eQ/uK",
      "include_colab_link": true
    },
    "kernelspec": {
      "name": "python3",
      "display_name": "Python 3"
    },
    "language_info": {
      "name": "python"
    }
  },
  "cells": [
    {
      "cell_type": "markdown",
      "metadata": {
        "id": "view-in-github",
        "colab_type": "text"
      },
      "source": [
        "<a href=\"https://colab.research.google.com/github/Anas-art-source/AI_experiments/blob/main/SemanticRouter_01.ipynb\" target=\"_parent\"><img src=\"https://colab.research.google.com/assets/colab-badge.svg\" alt=\"Open In Colab\"/></a>"
      ]
    },
    {
      "cell_type": "code",
      "execution_count": 20,
      "metadata": {
        "id": "TfvmyE-9BiYX"
      },
      "outputs": [],
      "source": [
        "!pip install -qU semantic-router==0.0.17"
      ]
    },
    {
      "cell_type": "code",
      "source": [
        "# Questions for Recommending Products on Amazon or E-commerce Platform\n",
        "recommendation_questions = [\n",
        "    \"Can you recommend products based on my previous purchases?\",\n",
        "    \"How are product recommendations personalized for my preferences?\",\n",
        "    \"What are the current trending products in [specific category]?\",\n",
        "    \"Can you show me popular products in [a particular department]?\",\n",
        "    \"Can you provide comparisons between similar products?\",\n",
        "    \"Are there any alternative products that I might be interested in?\",\n",
        "    \"Are there any ongoing promotions or discounts on products I frequently buy?\",\n",
        "    \"Can you notify me of upcoming sales or promotions for specific products?\",\n",
        "    \"Is the product I'm interested in currently in stock?\",\n",
        "    \"Can I be notified when an out-of-stock item becomes available?\",\n",
        "    \"What are the reviews and ratings for this product?\",\n",
        "    \"Can you recommend products with high customer satisfaction?\",\n",
        "    \"What are the latest products in [a certain category]?\",\n",
        "    \"Can I see new arrivals in [a specific department]?\",\n",
        "    \"Can you suggest gift ideas for [occasion or recipient]?\",\n",
        "    \"What are popular gifts in [a certain price range]?\",\n",
        "    \"Can you recommend accessories or complementary products for [specific item]?\",\n",
        "    \"Is this product compatible with [other product]?\",\n",
        "    \"Can you provide more details about how a specific product works or its features?\",\n",
        "    \"What is the return policy for this product?\",\n",
        "    \"Can you provide information about the warranty for [specific product]?\",\n",
        "    \"Can I customize certain features of a product before purchasing?\",\n",
        "    \"Are there any personalized options available for [specific product]?\"\n",
        "]\n",
        "\n",
        "# Questions for Comparing Products on Amazon or E-commerce Platform\n",
        "comparison_questions = [\n",
        "    \"What are the key features of [Product A] compared to [Product B]?\",\n",
        "    \"How does the performance of [Product A] compare to [Product B] in terms of [specific specification]?\",\n",
        "    \"What is the price difference between [Product A] and [Product B]?\",\n",
        "    \"Which product offers better value for money based on its features and price?\",\n",
        "    \"How do customers rate and review [Product A] compared to [Product B]?\",\n",
        "    \"Are there any common strengths or weaknesses mentioned in customer reviews?\",\n",
        "    \"What is the reputation of the brands behind [Product A] and [Product B]?\",\n",
        "    \"Can you provide information on customer satisfaction with each brand?\",\n",
        "    \"Are there more accessories available for [Product A] or [Product B]?\",\n",
        "    \"Can you recommend additional accessories for each product?\",\n",
        "    \"How compatible is [Product A] with other devices compared to [Product B]?\",\n",
        "    \"Are there any compatibility issues mentioned in customer reviews?\",\n",
        "    \"What is the warranty duration for [Product A] and [Product B]?\",\n",
        "    \"How responsive is the customer support for each product?\",\n",
        "    \"Can you provide the size and dimensions of [Product A] and [Product B]?\",\n",
        "    \"Are there notable differences in the physical size of these products?\",\n",
        "    \"How does the power consumption of [Product A] compare to [Product B]?\",\n",
        "    \"Are there any energy efficiency features mentioned for each product?\",\n",
        "    \"Is there a difference in delivery time or shipping costs for [Product A] and [Product B]?\",\n",
        "    \"Can I compare the shipping options available for each product?\",\n",
        "    \"Are there any planned upgrades or new versions for [Product A] or [Product B]?\",\n",
        "    \"Which product is more likely to remain relevant for a longer period?\"\n",
        "]\n",
        "\n",
        "# Questions for Company Policies on Amazon or E-commerce Platform\n",
        "policy_questions = [\n",
        "    \"What is the return policy for products purchased on the platform?\",\n",
        "    \"How does the refund process work?\",\n",
        "    \"Are there any conditions or exceptions to the return policy?\",\n",
        "    \"What is the warranty period for electronic products?\",\n",
        "    \"Can you provide information on extended warranty options?\",\n",
        "    \"Are there any restocking fees associated with returns?\",\n",
        "    \"How can I initiate a return or refund for a product?\",\n",
        "    \"What is the customer support process for handling return-related inquiries?\",\n",
        "    \"Is there a satisfaction guarantee on products purchased?\",\n",
        "    \"Are there any special policies for damaged or defective items?\",\n",
        "    \"Can you provide details on the platform's privacy policy?\",\n",
        "    \"How is customer data handled and protected?\",\n",
        "    \"Are there any loyalty programs or benefits for frequent shoppers?\",\n",
        "    \"What is the process for canceling an order?\",\n",
        "    \"Can I track the status of my order in real-time?\",\n",
        "    \"Are there any limitations on international shipping?\",\n",
        "    \"How is customer feedback and reviews moderated on the platform?\",\n",
        "    \"Can you provide information on the platform's fraud prevention measures?\",\n",
        "    \"What steps are taken to ensure the security of customer transactions?\",\n",
        "    \"Is there a buyer protection policy in place?\",\n",
        "    \"What measures are in place to address product authenticity and counterfeit concerns?\",\n",
        "    \"How are disputes between buyers and sellers resolved on the platform?\"\n",
        "]\n",
        "\n"
      ],
      "metadata": {
        "id": "Tw4Aii83b9Yy"
      },
      "execution_count": 74,
      "outputs": []
    },
    {
      "cell_type": "code",
      "source": [
        "from semantic_router import Route\n",
        "\n",
        "recommendation = Route(\n",
        "    name=\"recommendation\",\n",
        "    description=\"use this route for suggesting and recommending product to users\",\n",
        "    utterances=recommendation_questions,\n",
        ")\n",
        "\n",
        "\n",
        "productComparison = Route(\n",
        "    name=\"productComparison\",\n",
        "    description=\"use this route for product comparison\",\n",
        "    utterances=comparison_questions\n",
        ")\n",
        "\n",
        "\n",
        "\n",
        "policy = Route(\n",
        "    name=\"companyPolicy\",\n",
        "    description=\"use this route for company policy\",\n",
        "    utterances=policy_questions\n",
        ")"
      ],
      "metadata": {
        "id": "cclNjBGjB3VY"
      },
      "execution_count": 75,
      "outputs": []
    },
    {
      "cell_type": "code",
      "source": [
        "import os\n",
        "from getpass import getpass\n",
        "from semantic_router.encoders import CohereEncoder, OpenAIEncoder\n",
        "\n",
        "# os.environ[\"COHERE_API_KEY\"] = os.getenv(\"COHERE_API_KEY\") or getpass(\n",
        "#     \"Enter Cohere API Key: \"\n",
        "# )\n",
        "os.environ[\"OPENAI_API_KEY\"] = \"\"\n",
        "\n",
        "# encoder = CohereEncoder()\n",
        "encoder = OpenAIEncoder()"
      ],
      "metadata": {
        "id": "mNnRZvcVB3X2"
      },
      "execution_count": 76,
      "outputs": []
    },
    {
      "cell_type": "code",
      "source": [
        "from semantic_router.layer import RouteLayer\n",
        "routes = [recommendation, productComparison,policy]\n",
        "rl = RouteLayer(encoder=encoder, routes=routes)"
      ],
      "metadata": {
        "colab": {
          "base_uri": "https://localhost:8080/"
        },
        "id": "fBUnwQgZB3ad",
        "outputId": "f9f9c15d-14c5-4569-c631-a045eefa37a7"
      },
      "execution_count": 77,
      "outputs": [
        {
          "output_type": "stream",
          "name": "stderr",
          "text": [
            "\u001b[32m2024-01-21 14:34:23 INFO semantic_router.utils.logger Initializing RouteLayer\u001b[0m\n"
          ]
        }
      ]
    },
    {
      "cell_type": "markdown",
      "source": [
        "**Company Policy**"
      ],
      "metadata": {
        "id": "iX8coG0CckWy"
      }
    },
    {
      "cell_type": "code",
      "source": [
        "rl(\"tell me about company return policy\")"
      ],
      "metadata": {
        "colab": {
          "base_uri": "https://localhost:8080/"
        },
        "id": "eoSJmrpkB3dA",
        "outputId": "9537f1a7-9ea8-4478-8b1f-d354cae1ac9c"
      },
      "execution_count": 79,
      "outputs": [
        {
          "output_type": "execute_result",
          "data": {
            "text/plain": [
              "RouteChoice(name='companyPolicy', function_call=None, similarity_score=None, trigger=None)"
            ]
          },
          "metadata": {},
          "execution_count": 79
        }
      ]
    },
    {
      "cell_type": "markdown",
      "source": [
        "**Recommendation**"
      ],
      "metadata": {
        "id": "gemwTYxycpJ5"
      }
    },
    {
      "cell_type": "code",
      "source": [
        "rl(\"What is trending now in women fashion\")"
      ],
      "metadata": {
        "colab": {
          "base_uri": "https://localhost:8080/"
        },
        "id": "Q5OaCI30cnuZ",
        "outputId": "a9d39c48-5585-41d8-adfc-2483b54b9867"
      },
      "execution_count": 80,
      "outputs": [
        {
          "output_type": "execute_result",
          "data": {
            "text/plain": [
              "RouteChoice(name='recommendation', function_call=None, similarity_score=None, trigger=None)"
            ]
          },
          "metadata": {},
          "execution_count": 80
        }
      ]
    },
    {
      "cell_type": "markdown",
      "source": [
        "**Product Comparison**"
      ],
      "metadata": {
        "id": "WmUfppW2c1KZ"
      }
    },
    {
      "cell_type": "code",
      "source": [
        "rl(\"How is Product X better than Product Y?\")"
      ],
      "metadata": {
        "colab": {
          "base_uri": "https://localhost:8080/"
        },
        "id": "16cu_mrecznT",
        "outputId": "07717821-d831-4e2a-e7c2-95f0128ffea9"
      },
      "execution_count": 81,
      "outputs": [
        {
          "output_type": "execute_result",
          "data": {
            "text/plain": [
              "RouteChoice(name='productComparison', function_call=None, similarity_score=None, trigger=None)"
            ]
          },
          "metadata": {},
          "execution_count": 81
        }
      ]
    },
    {
      "cell_type": "markdown",
      "source": [
        "**Function Calling**\n",
        "\n",
        "Integrating Search API"
      ],
      "metadata": {
        "id": "jDcbcNYBdTlu"
      }
    },
    {
      "cell_type": "code",
      "source": [
        "def search(query: str) -> str:\n",
        "    \"\"\"Search product in a ecommerce platform.\n",
        "\n",
        "    :param query: search keywords. It should be in natural language, such as \"women fashion\", \"cricket bats\", \"Coffee mugs for office\"\n",
        "    :type query: str\n",
        "    :return: Details about products, such as name, brand, price, features etc.\"\"\"\n",
        "    # using search API to find relevant products\n",
        "    # response = search(query)\n",
        "\n",
        "    # appending product to product_card to be display in UI\n",
        "    # product_card.append(response.response)\n",
        "\n",
        "    # generating a response in natural language\n",
        "    # output = llm(response.response)\n",
        "\n",
        "    # return output\n",
        "    return \"blah blah blah\"\n"
      ],
      "metadata": {
        "id": "c3ghA_jZdXeS"
      },
      "execution_count": 82,
      "outputs": []
    },
    {
      "cell_type": "code",
      "source": [
        "from semantic_router.utils.function_call import get_schema\n",
        "\n",
        "schema = get_schema(search)\n",
        "schema"
      ],
      "metadata": {
        "colab": {
          "base_uri": "https://localhost:8080/"
        },
        "id": "EOyhL6_ZdXnh",
        "outputId": "76e188b1-b703-425e-9744-1116c87ce68b"
      },
      "execution_count": 83,
      "outputs": [
        {
          "output_type": "execute_result",
          "data": {
            "text/plain": [
              "{'name': 'search',\n",
              " 'description': 'Search product in a ecommerce platform.\\n\\n:param query: search keywords. It should be in natural language, such as \"women fashion\", \"cricket bats\", \"Coffee mugs for office\"\\n:type query: str\\n:return: Details about products, such as name, brand, price, features etc.',\n",
              " 'signature': '(query: str) -> str',\n",
              " 'output': \"<class 'str'>\"}"
            ]
          },
          "metadata": {},
          "execution_count": 83
        }
      ]
    },
    {
      "cell_type": "code",
      "source": [
        "# Questions for Finding a Specific Product on Amazon or E-commerce Platform\n",
        "product_search_questions = [\n",
        "    \"Can you help me find [specific product] on the platform?\",\n",
        "    \"Is [specific product] available for purchase?\",\n",
        "    \"What are the top results for [specific product]?\",\n",
        "    \"Can you provide information on different models or versions of [specific product]?\",\n",
        "    \"How can I narrow down my search for [specific product]?\",\n",
        "    \"Are there any deals or discounts available for [specific product]?\",\n",
        "    \"Can you recommend alternative products similar to [specific product]?\",\n",
        "    \"What is the customer rating and feedback for [specific product]?\",\n",
        "    \"Is there a way to check the availability of [specific product] in my location?\",\n",
        "    \"Can I see a list of sellers offering [specific product] and compare prices?\",\n",
        "    \"How can I filter search results for [specific product] by customer reviews?\",\n",
        "    \"Are there any bundle deals available for [specific product]?\",\n",
        "    \"Can I view the specifications and features of [specific product]?\",\n",
        "    \"What is the shipping time for [specific product]?\",\n",
        "    \"Can I set price alerts for [specific product] to be notified of discounts?\",\n",
        "    \"How does the return policy apply to [specific product]?\",\n",
        "    \"Is there a warranty or guarantee for [specific product]?\",\n",
        "    \"Can you provide information on the availability of [specific product] in different colors or sizes?\",\n",
        "    \"How can I check if [specific product] is eligible for Prime shipping?\",\n",
        "    \"Are there any customer testimonials or success stories related to [specific product]?\",\n",
        "    \"Can I see a demo or video review of [specific product] before purchasing?\",\n",
        "    \"What accessories are commonly purchased with [specific product]?\",\n",
        "    \"Is [specific product] part of any ongoing promotions or special events?\"]\n"
      ],
      "metadata": {
        "id": "HWaCCrGjhPq6"
      },
      "execution_count": 85,
      "outputs": []
    },
    {
      "cell_type": "code",
      "source": [
        "search_product = Route(\n",
        "    name=\"search_product\",\n",
        "    utterances=product_search_questions,\n",
        "    function_schema=schema,\n",
        ")"
      ],
      "metadata": {
        "id": "qRwwe4ilgz-L"
      },
      "execution_count": 87,
      "outputs": []
    },
    {
      "cell_type": "code",
      "source": [
        "rl.add(search_product)"
      ],
      "metadata": {
        "colab": {
          "base_uri": "https://localhost:8080/"
        },
        "id": "P3AWPZrFg5CV",
        "outputId": "7729d8cb-d5b7-485b-9e13-88fdba53f20a"
      },
      "execution_count": 88,
      "outputs": [
        {
          "output_type": "stream",
          "name": "stderr",
          "text": [
            "\u001b[32m2024-01-21 14:56:25 INFO semantic_router.utils.logger Adding `search_product` route\u001b[0m\n"
          ]
        }
      ]
    },
    {
      "cell_type": "code",
      "source": [
        "out = rl(\"Is Whiskas cat treat available in stock?\")\n",
        "out"
      ],
      "metadata": {
        "colab": {
          "base_uri": "https://localhost:8080/"
        },
        "id": "IWzKz2ZQg7bQ",
        "outputId": "fb72a40a-2fe9-40c8-d172-dc67d3b85d47"
      },
      "execution_count": 96,
      "outputs": [
        {
          "output_type": "stream",
          "name": "stderr",
          "text": [
            "\u001b[33m2024-01-21 14:58:50 WARNING semantic_router.utils.logger No LLM provided for dynamic route, will use OpenAI LLM default. Ensure API key is set in OPENAI_API_KEY environment variable.\u001b[0m\n",
            "\u001b[32m2024-01-21 14:58:51 INFO semantic_router.utils.logger Extracting function input...\u001b[0m\n"
          ]
        },
        {
          "output_type": "execute_result",
          "data": {
            "text/plain": [
              "RouteChoice(name='search_product', function_call={'query': 'Is Whiskas cat treat available in stock?'}, similarity_score=None, trigger=None)"
            ]
          },
          "metadata": {},
          "execution_count": 96
        }
      ]
    }
  ]
}